{
 "cells": [
  {
   "cell_type": "markdown",
   "metadata": {},
   "source": [
    "<img src=\"https://avatars.githubusercontent.com/u/63704085?s=400&u=5dc6c45b7d457ce6f303fbc612091cb2c133482f&v=4\" alt=\"sar2cube logo\" style=\"float: top; max-width: 200px\" />\n",
    "\n",
    "## Use Case 3: Forest Change Detection"
   ]
  },
  {
   "cell_type": "code",
   "execution_count": 10,
   "metadata": {},
   "outputs": [],
   "source": [
    "# Import necessary libraries\n",
    "# System\n",
    "import os\n",
    "import sys\n",
    "from time import time\n",
    "from datetime import datetime\n",
    "# Math\n",
    "import math\n",
    "import numpy as np\n",
    "from scipy.optimize import curve_fit\n",
    "# Geography\n",
    "from osgeo import gdal, osr\n",
    "from pyproj import Proj, transform, Transformer, CRS\n",
    "import rasterio\n",
    "# Datacubes and databases\n",
    "import datacube\n",
    "import xarray as xr\n",
    "import rioxarray\n",
    "import pandas as pd\n",
    "# Parallel Computing\n",
    "import dask\n",
    "from dask.distributed import Client\n",
    "from dask import delayed, compute\n",
    "# Graphic\n",
    "from matplotlib import pyplot as plt\n",
    "\n",
    "from eo_utils import *\n",
    "from sar2cube_utils import *\n",
    "\n",
    "#from datacube.drivers.netcdf import write_dataset_to_netcdf"
   ]
  },
  {
   "cell_type": "markdown",
   "metadata": {},
   "source": [
    "### Attach to the Dask Cluster"
   ]
  },
  {
   "cell_type": "code",
   "execution_count": null,
   "metadata": {},
   "outputs": [],
   "source": [
    "client = Client('tcp://10.8.244.123:8786')\n",
    "dask.config.set(**{'array.slicing.split_large_chunks': False})\n",
    "client"
   ]
  },
  {
   "cell_type": "markdown",
   "metadata": {},
   "source": [
    "## L0 Datacube loading"
   ]
  },
  {
   "cell_type": "code",
   "execution_count": null,
   "metadata": {},
   "outputs": [],
   "source": [
    "dc = datacube.Datacube(config = '/home/mclaus@eurac.edu/.datacube.conf')\n",
    "sent1 = dc.load(product = 'SAR2Cube_L0_117_ASC_ST_2016_2020', time=[\"2016-01-01\",\"2020-12-31\"], dask_chunks={'time':1,'x':2000,'y':2000})\n",
    "sent1"
   ]
  },
  {
   "cell_type": "markdown",
   "metadata": {},
   "source": [
    "## Spatial Slicing for forest area\n",
    "The bright rectangle represents the area of interest we will analyze during this use case.\n",
    "<img src=\"./auxdata/UC3/sar2cube_change_area.jpg\" style=\"float: bottom; max-width: 720px\" />"
   ]
  },
  {
   "cell_type": "code",
   "execution_count": null,
   "metadata": {},
   "outputs": [],
   "source": [
    "start = time()\n",
    "vaia_bbox = [11.399087905883789,46.32962443657124,11.435308456420898,46.351193305097866]\n",
    "bbox_mask = np.bitwise_and(np.bitwise_and(sent1.grid_lon[0]>vaia_bbox[0],sent1.grid_lon[0]<vaia_bbox[2]),np.bitwise_and(sent1.grid_lat[0]>vaia_bbox[1],sent1.grid_lat[0]<vaia_bbox[3]))\n",
    "sent1_subset = sent1.where(bbox_mask,drop=True)\n",
    "print('Elapsed time: ', time()-start)\n",
    "sent1_subset"
   ]
  },
  {
   "cell_type": "markdown",
   "metadata": {},
   "source": [
    "## Amplitude and Multilook"
   ]
  },
  {
   "cell_type": "code",
   "execution_count": null,
   "metadata": {},
   "outputs": [],
   "source": [
    "VV_amp_ML = ((sent1_subset.i_VV**2 + sent1_subset.q_VV**2)**0.5).coarsen(y=4,boundary='trim').mean().coarsen(x=19,boundary='trim').mean()\n",
    "VH_amp_ML = ((sent1_subset.i_VH**2 + sent1_subset.q_VH**2)**0.5).coarsen(y=4,boundary='trim').mean().coarsen(x=19,boundary='trim').mean()"
   ]
  },
  {
   "cell_type": "code",
   "execution_count": null,
   "metadata": {},
   "outputs": [],
   "source": [
    "sent1_subset = sent1_subset.drop('i_VH')\n",
    "sent1_subset = sent1_subset.drop('i_VV')\n",
    "sent1_subset = sent1_subset.drop('q_VH')\n",
    "sent1_subset = sent1_subset.drop('q_VV')\n",
    "sent1_ML = sent1_subset.coarsen(y=4,boundary='trim').mean().coarsen(x=19,boundary='trim').mean()"
   ]
  },
  {
   "cell_type": "code",
   "execution_count": null,
   "metadata": {},
   "outputs": [],
   "source": [
    "sent1_ML['VV'] = VV_amp_ML\n",
    "sent1_ML['VH'] = VH_amp_ML"
   ]
  },
  {
   "cell_type": "code",
   "execution_count": null,
   "metadata": {},
   "outputs": [],
   "source": [
    "sent1_ML.time.attrs.pop('units', None)\n",
    "sent1_ML.to_netcdf('/mnt/large_drive/work_spaces/mclaus/S1_forest/sent1_ML.nc')"
   ]
  },
  {
   "cell_type": "code",
   "execution_count": null,
   "metadata": {},
   "outputs": [],
   "source": [
    "sent1_ML = xr.open_dataset('/mnt/large_drive/work_spaces/mclaus/S1_forest/sent1_ML.nc')\n",
    "sent1_ML.VH[:,20,20].plot()"
   ]
  },
  {
   "cell_type": "markdown",
   "metadata": {},
   "source": [
    "## Speckle Filtering"
   ]
  },
  {
   "cell_type": "code",
   "execution_count": null,
   "metadata": {},
   "outputs": [],
   "source": [
    "def lee_enhanced(data,winsize=3):\n",
    "    K_DEFAULT = 1.0\n",
    "    CU_DEFAULT = 0.523\n",
    "    CMAX_DEFAULT = 1.73\n",
    "    tmp_data = np.zeros_like(data)    \n",
    "    rows = data.shape[0]\n",
    "    cols = data.shape[1]\n",
    "    border = winsize//2\n",
    "    Cu = CU_DEFAULT\n",
    "    Cmax = CMAX_DEFAULT\n",
    "    for i in range(border,rows-border):\n",
    "        for j in range(border,cols-border):\n",
    "            S = data[i-border:i+border+1,j-border:j+border+1].std()\n",
    "            Im = data[i-border:i+border+1,j-border:j+border+1].mean()\n",
    "            Ic = data[i,j]\n",
    "            Ci = S / Im            \n",
    "            if Ci<=Cu:\n",
    "                tmp_data[i,j] = Im\n",
    "            elif Cu < Ci < Cmax:\n",
    "                W = np.exp(-K_DEFAULT*(Ci - Cu)/(Cmax - Ci))\n",
    "                tmp_data[i,j] = Im * W + Ic * (1-W)\n",
    "            else:\n",
    "                tmp_data[i,j] = Ic            \n",
    "    return tmp_data"
   ]
  },
  {
   "cell_type": "code",
   "execution_count": null,
   "metadata": {},
   "outputs": [],
   "source": [
    "# Apply speckle filter (lee enhanced)\n",
    "sent1_filtered_VV = xr.apply_ufunc(lee_enhanced,sent1_ML.VV,\n",
    "                       vectorize=True,\n",
    "                       input_core_dims=[['y','x']],# reduce along 'x'\n",
    "                       output_core_dims=[['y','x']],\n",
    "                       dask=\"parallelized\",\n",
    "                       output_dtypes=[float],\n",
    "                       dask_gufunc_kwargs={'allow_rechunk':True}\n",
    "                        )\n",
    "\n",
    "sent1_filtered_VH = xr.apply_ufunc(lee_enhanced,sent1_ML.VH,\n",
    "                       vectorize=True,\n",
    "                       input_core_dims=[['y','x']],# reduce along 'x'\n",
    "                       output_core_dims=[['y','x']],\n",
    "                       dask=\"parallelized\",\n",
    "                       output_dtypes=[float],\n",
    "                       dask_gufunc_kwargs={'allow_rechunk':True}\n",
    "                        )"
   ]
  },
  {
   "cell_type": "code",
   "execution_count": null,
   "metadata": {},
   "outputs": [],
   "source": [
    "sent1_ML['VV'] = sent1_filtered_VV\n",
    "sent1_ML['VH'] = sent1_filtered_VH"
   ]
  },
  {
   "cell_type": "code",
   "execution_count": null,
   "metadata": {},
   "outputs": [],
   "source": [
    "sent1_ML.to_netcdf('/mnt/large_drive/work_spaces/mclaus/S1_forest/sent1_ML_lee.nc')"
   ]
  },
  {
   "cell_type": "code",
   "execution_count": null,
   "metadata": {},
   "outputs": [],
   "source": [
    "sent1_ML.VH[:,20,20].plot()\n",
    "sent1_ML = xr.open_dataset('/mnt/large_drive/work_spaces/mclaus/S1_forest/sent1_ML_lee.nc')\n",
    "sent1_ML.VH[:,20,20].plot()"
   ]
  },
  {
   "cell_type": "markdown",
   "metadata": {},
   "source": [
    "## Geocoding"
   ]
  },
  {
   "cell_type": "markdown",
   "metadata": {},
   "source": [
    "Define the output projection and resolution."
   ]
  },
  {
   "cell_type": "code",
   "execution_count": null,
   "metadata": {},
   "outputs": [],
   "source": [
    "spatialres = 20\n",
    "output_crs = \"epsg:32632\""
   ]
  },
  {
   "cell_type": "markdown",
   "metadata": {},
   "source": [
    "Create a grid aligned with the Sentinel-2 one."
   ]
  },
  {
   "cell_type": "code",
   "execution_count": null,
   "metadata": {},
   "outputs": [],
   "source": [
    "x_regular, y_regular, grid_x_irregular, grid_y_irregular = create_S2grid(sent1_ML,output_crs,spatialres)\n",
    "grid_x_regular, grid_y_regular = np.meshgrid(x_regular,y_regular)\n",
    "grid_x_regular"
   ]
  },
  {
   "cell_type": "markdown",
   "metadata": {},
   "source": [
    "## Geocoded time-series"
   ]
  },
  {
   "cell_type": "code",
   "execution_count": null,
   "metadata": {},
   "outputs": [],
   "source": [
    "# Compute the transformation only once\n",
    "from scipy.spatial import Delaunay\n",
    "from scipy.interpolate import LinearNDInterpolator\n",
    "\n",
    "geocoded_cube = xr.Dataset(\n",
    "    {\n",
    "        \"VV\": ([\"time\",\"y\", \"x\"], np.zeros((len(sent1_ML.time),len(y_regular),len(x_regular)))),\n",
    "        \"VH\": ([\"time\",\"y\", \"x\"], np.zeros((len(sent1_ML.time),len(y_regular),len(x_regular))))\n",
    "    }, \n",
    "    coords={\n",
    "        \"time\": ([\"time\"],sent1_ML.time.values),\n",
    "        \"y\": ([\"y\"],y_regular),\n",
    "        \"x\": ([\"x\"],x_regular)\n",
    "    },\n",
    ")\n",
    "\n",
    "grid_irregular_flat = np.asarray([grid_x_irregular.flatten(), grid_y_irregular.flatten()]).T\n",
    "grid_regular_flat = np.asarray([grid_x_regular.flatten(), grid_y_regular.flatten()]).T\n",
    "shape = grid_x_regular.shape"
   ]
  },
  {
   "cell_type": "code",
   "execution_count": null,
   "metadata": {},
   "outputs": [],
   "source": [
    "%time delaunay_obj = Delaunay(np.asarray([grid_x_irregular.flatten(), grid_y_irregular.flatten()]).T)  # Compute the triangulation"
   ]
  },
  {
   "cell_type": "code",
   "execution_count": null,
   "metadata": {},
   "outputs": [],
   "source": [
    "def geocode(delaunay,datacube,grid_reg_flat,shape):\n",
    "    interpolator  = LinearNDInterpolator(delaunay,datacube)\n",
    "    geocoded_data = interpolator(grid_reg_flat)\n",
    "    geocoded_data = geocoded_data.reshape(shape)\n",
    "    return geocoded_data"
   ]
  },
  {
   "cell_type": "code",
   "execution_count": null,
   "metadata": {},
   "outputs": [],
   "source": [
    "%%time\n",
    "for i in range(len(sent1_ML.time)):\n",
    "    geocoded_cube['VV'][i] = delayed(geocode)(delaunay_obj, sent1_ML.VV[i].values.flatten(),grid_regular_flat,grid_x_regular.shape).compute()\n",
    "    geocoded_cube['VH'][i] = delayed(geocode)(delaunay_obj, sent1_ML.VH[i].values.flatten(),grid_regular_flat,grid_x_regular.shape).compute()"
   ]
  },
  {
   "cell_type": "code",
   "execution_count": null,
   "metadata": {},
   "outputs": [],
   "source": [
    "# geocoded_cube.to_netcdf('sar2cube_vaia_timeseries.nc')"
   ]
  },
  {
   "cell_type": "code",
   "execution_count": 11,
   "metadata": {},
   "outputs": [
    {
     "data": {
      "text/html": [
       "<div><svg style=\"position: absolute; width: 0; height: 0; overflow: hidden\">\n",
       "<defs>\n",
       "<symbol id=\"icon-database\" viewBox=\"0 0 32 32\">\n",
       "<path d=\"M16 0c-8.837 0-16 2.239-16 5v4c0 2.761 7.163 5 16 5s16-2.239 16-5v-4c0-2.761-7.163-5-16-5z\"></path>\n",
       "<path d=\"M16 17c-8.837 0-16-2.239-16-5v6c0 2.761 7.163 5 16 5s16-2.239 16-5v-6c0 2.761-7.163 5-16 5z\"></path>\n",
       "<path d=\"M16 26c-8.837 0-16-2.239-16-5v6c0 2.761 7.163 5 16 5s16-2.239 16-5v-6c0 2.761-7.163 5-16 5z\"></path>\n",
       "</symbol>\n",
       "<symbol id=\"icon-file-text2\" viewBox=\"0 0 32 32\">\n",
       "<path d=\"M28.681 7.159c-0.694-0.947-1.662-2.053-2.724-3.116s-2.169-2.030-3.116-2.724c-1.612-1.182-2.393-1.319-2.841-1.319h-15.5c-1.378 0-2.5 1.121-2.5 2.5v27c0 1.378 1.122 2.5 2.5 2.5h23c1.378 0 2.5-1.122 2.5-2.5v-19.5c0-0.448-0.137-1.23-1.319-2.841zM24.543 5.457c0.959 0.959 1.712 1.825 2.268 2.543h-4.811v-4.811c0.718 0.556 1.584 1.309 2.543 2.268zM28 29.5c0 0.271-0.229 0.5-0.5 0.5h-23c-0.271 0-0.5-0.229-0.5-0.5v-27c0-0.271 0.229-0.5 0.5-0.5 0 0 15.499-0 15.5 0v7c0 0.552 0.448 1 1 1h7v19.5z\"></path>\n",
       "<path d=\"M23 26h-14c-0.552 0-1-0.448-1-1s0.448-1 1-1h14c0.552 0 1 0.448 1 1s-0.448 1-1 1z\"></path>\n",
       "<path d=\"M23 22h-14c-0.552 0-1-0.448-1-1s0.448-1 1-1h14c0.552 0 1 0.448 1 1s-0.448 1-1 1z\"></path>\n",
       "<path d=\"M23 18h-14c-0.552 0-1-0.448-1-1s0.448-1 1-1h14c0.552 0 1 0.448 1 1s-0.448 1-1 1z\"></path>\n",
       "</symbol>\n",
       "</defs>\n",
       "</svg>\n",
       "<style>/* CSS stylesheet for displaying xarray objects in jupyterlab.\n",
       " *\n",
       " */\n",
       "\n",
       ":root {\n",
       "  --xr-font-color0: var(--jp-content-font-color0, rgba(0, 0, 0, 1));\n",
       "  --xr-font-color2: var(--jp-content-font-color2, rgba(0, 0, 0, 0.54));\n",
       "  --xr-font-color3: var(--jp-content-font-color3, rgba(0, 0, 0, 0.38));\n",
       "  --xr-border-color: var(--jp-border-color2, #e0e0e0);\n",
       "  --xr-disabled-color: var(--jp-layout-color3, #bdbdbd);\n",
       "  --xr-background-color: var(--jp-layout-color0, white);\n",
       "  --xr-background-color-row-even: var(--jp-layout-color1, white);\n",
       "  --xr-background-color-row-odd: var(--jp-layout-color2, #eeeeee);\n",
       "}\n",
       "\n",
       "html[theme=dark],\n",
       "body.vscode-dark {\n",
       "  --xr-font-color0: rgba(255, 255, 255, 1);\n",
       "  --xr-font-color2: rgba(255, 255, 255, 0.54);\n",
       "  --xr-font-color3: rgba(255, 255, 255, 0.38);\n",
       "  --xr-border-color: #1F1F1F;\n",
       "  --xr-disabled-color: #515151;\n",
       "  --xr-background-color: #111111;\n",
       "  --xr-background-color-row-even: #111111;\n",
       "  --xr-background-color-row-odd: #313131;\n",
       "}\n",
       "\n",
       ".xr-wrap {\n",
       "  display: block;\n",
       "  min-width: 300px;\n",
       "  max-width: 700px;\n",
       "}\n",
       "\n",
       ".xr-text-repr-fallback {\n",
       "  /* fallback to plain text repr when CSS is not injected (untrusted notebook) */\n",
       "  display: none;\n",
       "}\n",
       "\n",
       ".xr-header {\n",
       "  padding-top: 6px;\n",
       "  padding-bottom: 6px;\n",
       "  margin-bottom: 4px;\n",
       "  border-bottom: solid 1px var(--xr-border-color);\n",
       "}\n",
       "\n",
       ".xr-header > div,\n",
       ".xr-header > ul {\n",
       "  display: inline;\n",
       "  margin-top: 0;\n",
       "  margin-bottom: 0;\n",
       "}\n",
       "\n",
       ".xr-obj-type,\n",
       ".xr-array-name {\n",
       "  margin-left: 2px;\n",
       "  margin-right: 10px;\n",
       "}\n",
       "\n",
       ".xr-obj-type {\n",
       "  color: var(--xr-font-color2);\n",
       "}\n",
       "\n",
       ".xr-sections {\n",
       "  padding-left: 0 !important;\n",
       "  display: grid;\n",
       "  grid-template-columns: 150px auto auto 1fr 20px 20px;\n",
       "}\n",
       "\n",
       ".xr-section-item {\n",
       "  display: contents;\n",
       "}\n",
       "\n",
       ".xr-section-item input {\n",
       "  display: none;\n",
       "}\n",
       "\n",
       ".xr-section-item input + label {\n",
       "  color: var(--xr-disabled-color);\n",
       "}\n",
       "\n",
       ".xr-section-item input:enabled + label {\n",
       "  cursor: pointer;\n",
       "  color: var(--xr-font-color2);\n",
       "}\n",
       "\n",
       ".xr-section-item input:enabled + label:hover {\n",
       "  color: var(--xr-font-color0);\n",
       "}\n",
       "\n",
       ".xr-section-summary {\n",
       "  grid-column: 1;\n",
       "  color: var(--xr-font-color2);\n",
       "  font-weight: 500;\n",
       "}\n",
       "\n",
       ".xr-section-summary > span {\n",
       "  display: inline-block;\n",
       "  padding-left: 0.5em;\n",
       "}\n",
       "\n",
       ".xr-section-summary-in:disabled + label {\n",
       "  color: var(--xr-font-color2);\n",
       "}\n",
       "\n",
       ".xr-section-summary-in + label:before {\n",
       "  display: inline-block;\n",
       "  content: '►';\n",
       "  font-size: 11px;\n",
       "  width: 15px;\n",
       "  text-align: center;\n",
       "}\n",
       "\n",
       ".xr-section-summary-in:disabled + label:before {\n",
       "  color: var(--xr-disabled-color);\n",
       "}\n",
       "\n",
       ".xr-section-summary-in:checked + label:before {\n",
       "  content: '▼';\n",
       "}\n",
       "\n",
       ".xr-section-summary-in:checked + label > span {\n",
       "  display: none;\n",
       "}\n",
       "\n",
       ".xr-section-summary,\n",
       ".xr-section-inline-details {\n",
       "  padding-top: 4px;\n",
       "  padding-bottom: 4px;\n",
       "}\n",
       "\n",
       ".xr-section-inline-details {\n",
       "  grid-column: 2 / -1;\n",
       "}\n",
       "\n",
       ".xr-section-details {\n",
       "  display: none;\n",
       "  grid-column: 1 / -1;\n",
       "  margin-bottom: 5px;\n",
       "}\n",
       "\n",
       ".xr-section-summary-in:checked ~ .xr-section-details {\n",
       "  display: contents;\n",
       "}\n",
       "\n",
       ".xr-array-wrap {\n",
       "  grid-column: 1 / -1;\n",
       "  display: grid;\n",
       "  grid-template-columns: 20px auto;\n",
       "}\n",
       "\n",
       ".xr-array-wrap > label {\n",
       "  grid-column: 1;\n",
       "  vertical-align: top;\n",
       "}\n",
       "\n",
       ".xr-preview {\n",
       "  color: var(--xr-font-color3);\n",
       "}\n",
       "\n",
       ".xr-array-preview,\n",
       ".xr-array-data {\n",
       "  padding: 0 5px !important;\n",
       "  grid-column: 2;\n",
       "}\n",
       "\n",
       ".xr-array-data,\n",
       ".xr-array-in:checked ~ .xr-array-preview {\n",
       "  display: none;\n",
       "}\n",
       "\n",
       ".xr-array-in:checked ~ .xr-array-data,\n",
       ".xr-array-preview {\n",
       "  display: inline-block;\n",
       "}\n",
       "\n",
       ".xr-dim-list {\n",
       "  display: inline-block !important;\n",
       "  list-style: none;\n",
       "  padding: 0 !important;\n",
       "  margin: 0;\n",
       "}\n",
       "\n",
       ".xr-dim-list li {\n",
       "  display: inline-block;\n",
       "  padding: 0;\n",
       "  margin: 0;\n",
       "}\n",
       "\n",
       ".xr-dim-list:before {\n",
       "  content: '(';\n",
       "}\n",
       "\n",
       ".xr-dim-list:after {\n",
       "  content: ')';\n",
       "}\n",
       "\n",
       ".xr-dim-list li:not(:last-child):after {\n",
       "  content: ',';\n",
       "  padding-right: 5px;\n",
       "}\n",
       "\n",
       ".xr-has-index {\n",
       "  font-weight: bold;\n",
       "}\n",
       "\n",
       ".xr-var-list,\n",
       ".xr-var-item {\n",
       "  display: contents;\n",
       "}\n",
       "\n",
       ".xr-var-item > div,\n",
       ".xr-var-item label,\n",
       ".xr-var-item > .xr-var-name span {\n",
       "  background-color: var(--xr-background-color-row-even);\n",
       "  margin-bottom: 0;\n",
       "}\n",
       "\n",
       ".xr-var-item > .xr-var-name:hover span {\n",
       "  padding-right: 5px;\n",
       "}\n",
       "\n",
       ".xr-var-list > li:nth-child(odd) > div,\n",
       ".xr-var-list > li:nth-child(odd) > label,\n",
       ".xr-var-list > li:nth-child(odd) > .xr-var-name span {\n",
       "  background-color: var(--xr-background-color-row-odd);\n",
       "}\n",
       "\n",
       ".xr-var-name {\n",
       "  grid-column: 1;\n",
       "}\n",
       "\n",
       ".xr-var-dims {\n",
       "  grid-column: 2;\n",
       "}\n",
       "\n",
       ".xr-var-dtype {\n",
       "  grid-column: 3;\n",
       "  text-align: right;\n",
       "  color: var(--xr-font-color2);\n",
       "}\n",
       "\n",
       ".xr-var-preview {\n",
       "  grid-column: 4;\n",
       "}\n",
       "\n",
       ".xr-var-name,\n",
       ".xr-var-dims,\n",
       ".xr-var-dtype,\n",
       ".xr-preview,\n",
       ".xr-attrs dt {\n",
       "  white-space: nowrap;\n",
       "  overflow: hidden;\n",
       "  text-overflow: ellipsis;\n",
       "  padding-right: 10px;\n",
       "}\n",
       "\n",
       ".xr-var-name:hover,\n",
       ".xr-var-dims:hover,\n",
       ".xr-var-dtype:hover,\n",
       ".xr-attrs dt:hover {\n",
       "  overflow: visible;\n",
       "  width: auto;\n",
       "  z-index: 1;\n",
       "}\n",
       "\n",
       ".xr-var-attrs,\n",
       ".xr-var-data {\n",
       "  display: none;\n",
       "  background-color: var(--xr-background-color) !important;\n",
       "  padding-bottom: 5px !important;\n",
       "}\n",
       "\n",
       ".xr-var-attrs-in:checked ~ .xr-var-attrs,\n",
       ".xr-var-data-in:checked ~ .xr-var-data {\n",
       "  display: block;\n",
       "}\n",
       "\n",
       ".xr-var-data > table {\n",
       "  float: right;\n",
       "}\n",
       "\n",
       ".xr-var-name span,\n",
       ".xr-var-data,\n",
       ".xr-attrs {\n",
       "  padding-left: 25px !important;\n",
       "}\n",
       "\n",
       ".xr-attrs,\n",
       ".xr-var-attrs,\n",
       ".xr-var-data {\n",
       "  grid-column: 1 / -1;\n",
       "}\n",
       "\n",
       "dl.xr-attrs {\n",
       "  padding: 0;\n",
       "  margin: 0;\n",
       "  display: grid;\n",
       "  grid-template-columns: 125px auto;\n",
       "}\n",
       "\n",
       ".xr-attrs dt, dd {\n",
       "  padding: 0;\n",
       "  margin: 0;\n",
       "  float: left;\n",
       "  padding-right: 10px;\n",
       "  width: auto;\n",
       "}\n",
       "\n",
       ".xr-attrs dt {\n",
       "  font-weight: normal;\n",
       "  grid-column: 1;\n",
       "}\n",
       "\n",
       ".xr-attrs dt:hover span {\n",
       "  display: inline-block;\n",
       "  background: var(--xr-background-color);\n",
       "  padding-right: 10px;\n",
       "}\n",
       "\n",
       ".xr-attrs dd {\n",
       "  grid-column: 2;\n",
       "  white-space: pre-wrap;\n",
       "  word-break: break-all;\n",
       "}\n",
       "\n",
       ".xr-icon-database,\n",
       ".xr-icon-file-text2 {\n",
       "  display: inline-block;\n",
       "  vertical-align: middle;\n",
       "  width: 1em;\n",
       "  height: 1.5em !important;\n",
       "  stroke-width: 0;\n",
       "  stroke: currentColor;\n",
       "  fill: currentColor;\n",
       "}\n",
       "</style><pre class='xr-text-repr-fallback'>&lt;xarray.Dataset&gt;\n",
       "Dimensions:  (time: 181, x: 144, y: 124)\n",
       "Coordinates:\n",
       "  * time     (time) datetime64[ns] 2016-09-08T23:59:59 ... 2020-01-27T23:59:59\n",
       "  * y        (y) float64 5.133e+06 5.134e+06 5.134e+06 ... 5.136e+06 5.136e+06\n",
       "  * x        (x) float64 6.846e+05 6.846e+05 6.846e+05 ... 6.874e+05 6.874e+05\n",
       "Data variables:\n",
       "    VV       (time, y, x) float64 48.21 33.06 17.91 2.757 ... 0.0 0.0 0.0 0.0\n",
       "    VH       (time, y, x) float64 41.84 28.69 15.54 2.392 ... 0.0 0.0 0.0 0.0</pre><div class='xr-wrap' hidden><div class='xr-header'><div class='xr-obj-type'>xarray.Dataset</div></div><ul class='xr-sections'><li class='xr-section-item'><input id='section-b508e340-b765-4a62-9b8f-7284b1620f1e' class='xr-section-summary-in' type='checkbox' disabled ><label for='section-b508e340-b765-4a62-9b8f-7284b1620f1e' class='xr-section-summary'  title='Expand/collapse section'>Dimensions:</label><div class='xr-section-inline-details'><ul class='xr-dim-list'><li><span class='xr-has-index'>time</span>: 181</li><li><span class='xr-has-index'>x</span>: 144</li><li><span class='xr-has-index'>y</span>: 124</li></ul></div><div class='xr-section-details'></div></li><li class='xr-section-item'><input id='section-ede0f52a-76eb-4e66-8d4a-fa67ef2704a5' class='xr-section-summary-in' type='checkbox'  checked><label for='section-ede0f52a-76eb-4e66-8d4a-fa67ef2704a5' class='xr-section-summary' >Coordinates: <span>(3)</span></label><div class='xr-section-inline-details'></div><div class='xr-section-details'><ul class='xr-var-list'><li class='xr-var-item'><div class='xr-var-name'><span class='xr-has-index'>time</span></div><div class='xr-var-dims'>(time)</div><div class='xr-var-dtype'>datetime64[ns]</div><div class='xr-var-preview xr-preview'>2016-09-08T23:59:59 ... 2020-01-...</div><input id='attrs-8bab05ff-4916-4f6a-ab33-752012fe4095' class='xr-var-attrs-in' type='checkbox' disabled><label for='attrs-8bab05ff-4916-4f6a-ab33-752012fe4095' title='Show/Hide attributes'><svg class='icon xr-icon-file-text2'><use xlink:href='#icon-file-text2'></use></svg></label><input id='data-e9d89462-4353-44aa-80f8-3e7d4165fe80' class='xr-var-data-in' type='checkbox'><label for='data-e9d89462-4353-44aa-80f8-3e7d4165fe80' title='Show/Hide data repr'><svg class='icon xr-icon-database'><use xlink:href='#icon-database'></use></svg></label><div class='xr-var-attrs'><dl class='xr-attrs'></dl></div><div class='xr-var-data'><pre>array([&#x27;2016-09-08T23:59:59.000000000&#x27;, &#x27;2016-09-20T23:59:59.000000000&#x27;,\n",
       "       &#x27;2016-10-02T23:59:59.000000000&#x27;, &#x27;2016-10-26T23:59:59.000000000&#x27;,\n",
       "       &#x27;2016-11-19T23:59:59.000000000&#x27;, &#x27;2016-12-01T23:59:59.000000000&#x27;,\n",
       "       &#x27;2016-12-13T23:59:59.000000000&#x27;, &#x27;2016-12-25T23:59:59.000000000&#x27;,\n",
       "       &#x27;2017-01-06T23:59:59.000000000&#x27;, &#x27;2017-01-18T23:59:59.000000000&#x27;,\n",
       "       &#x27;2017-01-30T23:59:59.000000000&#x27;, &#x27;2017-02-11T23:59:59.000000000&#x27;,\n",
       "       &#x27;2017-02-23T23:59:59.000000000&#x27;, &#x27;2017-03-07T23:59:59.000000000&#x27;,\n",
       "       &#x27;2017-03-13T23:59:59.000000000&#x27;, &#x27;2017-03-19T23:59:59.000000000&#x27;,\n",
       "       &#x27;2017-03-31T23:59:59.000000000&#x27;, &#x27;2017-04-06T23:59:59.000000000&#x27;,\n",
       "       &#x27;2017-04-12T23:59:59.000000000&#x27;, &#x27;2017-04-18T23:59:59.000000000&#x27;,\n",
       "       &#x27;2017-04-24T23:59:59.000000000&#x27;, &#x27;2017-04-30T23:59:59.000000000&#x27;,\n",
       "       &#x27;2017-05-06T23:59:59.000000000&#x27;, &#x27;2017-05-12T23:59:59.000000000&#x27;,\n",
       "       &#x27;2017-05-18T23:59:59.000000000&#x27;, &#x27;2017-05-24T23:59:59.000000000&#x27;,\n",
       "       &#x27;2017-05-30T23:59:59.000000000&#x27;, &#x27;2017-06-05T23:59:59.000000000&#x27;,\n",
       "       &#x27;2017-06-11T23:59:59.000000000&#x27;, &#x27;2017-06-17T23:59:59.000000000&#x27;,\n",
       "       &#x27;2017-06-23T23:59:59.000000000&#x27;, &#x27;2017-06-29T23:59:59.000000000&#x27;,\n",
       "       &#x27;2017-07-05T23:59:59.000000000&#x27;, &#x27;2017-07-11T23:59:59.000000000&#x27;,\n",
       "       &#x27;2017-07-17T23:59:59.000000000&#x27;, &#x27;2017-07-23T23:59:59.000000000&#x27;,\n",
       "       &#x27;2017-07-29T23:59:59.000000000&#x27;, &#x27;2017-08-04T23:59:59.000000000&#x27;,\n",
       "       &#x27;2017-08-16T23:59:59.000000000&#x27;, &#x27;2017-08-22T23:59:59.000000000&#x27;,\n",
       "       &#x27;2017-08-28T23:59:59.000000000&#x27;, &#x27;2017-09-03T23:59:59.000000000&#x27;,\n",
       "       &#x27;2017-09-09T23:59:59.000000000&#x27;, &#x27;2017-09-15T23:59:59.000000000&#x27;,\n",
       "       &#x27;2017-09-21T23:59:59.000000000&#x27;, &#x27;2017-09-27T23:59:59.000000000&#x27;,\n",
       "       &#x27;2017-10-03T23:59:59.000000000&#x27;, &#x27;2017-10-09T23:59:59.000000000&#x27;,\n",
       "       &#x27;2017-10-15T23:59:59.000000000&#x27;, &#x27;2017-10-21T23:59:59.000000000&#x27;,\n",
       "       &#x27;2017-10-27T23:59:59.000000000&#x27;, &#x27;2017-11-02T23:59:59.000000000&#x27;,\n",
       "       &#x27;2017-11-08T23:59:59.000000000&#x27;, &#x27;2017-11-14T23:59:59.000000000&#x27;,\n",
       "       &#x27;2017-11-20T23:59:59.000000000&#x27;, &#x27;2017-11-26T23:59:59.000000000&#x27;,\n",
       "       &#x27;2017-12-02T23:59:59.000000000&#x27;, &#x27;2017-12-08T23:59:59.000000000&#x27;,\n",
       "       &#x27;2017-12-14T23:59:59.000000000&#x27;, &#x27;2017-12-20T23:59:59.000000000&#x27;,\n",
       "       &#x27;2017-12-26T23:59:59.000000000&#x27;, &#x27;2018-01-01T23:59:59.000000000&#x27;,\n",
       "       &#x27;2018-01-07T23:59:59.000000000&#x27;, &#x27;2018-01-13T23:59:59.000000000&#x27;,\n",
       "       &#x27;2018-01-19T23:59:59.000000000&#x27;, &#x27;2018-01-25T23:59:59.000000000&#x27;,\n",
       "       &#x27;2018-01-31T23:59:59.000000000&#x27;, &#x27;2018-02-06T23:59:59.000000000&#x27;,\n",
       "       &#x27;2018-02-12T23:59:59.000000000&#x27;, &#x27;2018-02-18T23:59:59.000000000&#x27;,\n",
       "       &#x27;2018-03-02T23:59:59.000000000&#x27;, &#x27;2018-03-14T23:59:59.000000000&#x27;,\n",
       "       &#x27;2018-03-20T23:59:59.000000000&#x27;, &#x27;2018-03-26T23:59:59.000000000&#x27;,\n",
       "       &#x27;2018-04-07T23:59:59.000000000&#x27;, &#x27;2018-04-19T23:59:59.000000000&#x27;,\n",
       "       &#x27;2018-04-25T23:59:59.000000000&#x27;, &#x27;2018-05-01T23:59:59.000000000&#x27;,\n",
       "       &#x27;2018-05-07T23:59:59.000000000&#x27;, &#x27;2018-05-13T23:59:59.000000000&#x27;,\n",
       "       &#x27;2018-05-19T23:59:59.000000000&#x27;, &#x27;2018-05-25T23:59:59.000000000&#x27;,\n",
       "       &#x27;2018-06-06T23:59:59.000000000&#x27;, &#x27;2018-06-12T23:59:59.000000000&#x27;,\n",
       "       &#x27;2018-06-18T23:59:59.000000000&#x27;, &#x27;2018-06-24T23:59:59.000000000&#x27;,\n",
       "       &#x27;2018-06-30T23:59:59.000000000&#x27;, &#x27;2018-07-06T23:59:59.000000000&#x27;,\n",
       "       &#x27;2018-07-12T23:59:59.000000000&#x27;, &#x27;2018-07-18T23:59:59.000000000&#x27;,\n",
       "       &#x27;2018-07-24T23:59:59.000000000&#x27;, &#x27;2018-07-30T23:59:59.000000000&#x27;,\n",
       "       &#x27;2018-08-05T23:59:59.000000000&#x27;, &#x27;2018-08-11T23:59:59.000000000&#x27;,\n",
       "       &#x27;2018-08-17T23:59:59.000000000&#x27;, &#x27;2018-08-23T23:59:59.000000000&#x27;,\n",
       "       &#x27;2018-08-29T23:59:59.000000000&#x27;, &#x27;2018-09-04T23:59:59.000000000&#x27;,\n",
       "       &#x27;2018-09-10T23:59:59.000000000&#x27;, &#x27;2018-09-16T23:59:59.000000000&#x27;,\n",
       "       &#x27;2018-09-22T23:59:59.000000000&#x27;, &#x27;2018-09-28T23:59:59.000000000&#x27;,\n",
       "       &#x27;2018-10-04T23:59:59.000000000&#x27;, &#x27;2018-10-10T23:59:59.000000000&#x27;,\n",
       "       &#x27;2018-10-16T23:59:59.000000000&#x27;, &#x27;2018-10-22T23:59:59.000000000&#x27;,\n",
       "       &#x27;2018-10-28T23:59:59.000000000&#x27;, &#x27;2018-11-03T23:59:59.000000000&#x27;,\n",
       "       &#x27;2018-11-09T23:59:59.000000000&#x27;, &#x27;2018-11-15T23:59:59.000000000&#x27;,\n",
       "       &#x27;2018-11-21T23:59:59.000000000&#x27;, &#x27;2018-11-27T23:59:59.000000000&#x27;,\n",
       "       &#x27;2018-12-03T23:59:59.000000000&#x27;, &#x27;2018-12-09T23:59:59.000000000&#x27;,\n",
       "       &#x27;2018-12-15T23:59:59.000000000&#x27;, &#x27;2018-12-27T23:59:59.000000000&#x27;,\n",
       "       &#x27;2019-01-02T23:59:59.000000000&#x27;, &#x27;2019-01-08T23:59:59.000000000&#x27;,\n",
       "       &#x27;2019-01-14T23:59:59.000000000&#x27;, &#x27;2019-01-20T23:59:59.000000000&#x27;,\n",
       "       &#x27;2019-01-26T23:59:59.000000000&#x27;, &#x27;2019-02-01T23:59:59.000000000&#x27;,\n",
       "       &#x27;2019-02-07T23:59:59.000000000&#x27;, &#x27;2019-02-13T23:59:59.000000000&#x27;,\n",
       "       &#x27;2019-02-19T23:59:59.000000000&#x27;, &#x27;2019-02-25T23:59:59.000000000&#x27;,\n",
       "       &#x27;2019-03-03T23:59:59.000000000&#x27;, &#x27;2019-03-09T23:59:59.000000000&#x27;,\n",
       "       &#x27;2019-03-15T23:59:59.000000000&#x27;, &#x27;2019-03-21T23:59:59.000000000&#x27;,\n",
       "       &#x27;2019-03-27T23:59:59.000000000&#x27;, &#x27;2019-04-02T23:59:59.000000000&#x27;,\n",
       "       &#x27;2019-04-08T23:59:59.000000000&#x27;, &#x27;2019-04-14T23:59:59.000000000&#x27;,\n",
       "       &#x27;2019-04-20T23:59:59.000000000&#x27;, &#x27;2019-04-26T23:59:59.000000000&#x27;,\n",
       "       &#x27;2019-05-02T23:59:59.000000000&#x27;, &#x27;2019-05-08T23:59:59.000000000&#x27;,\n",
       "       &#x27;2019-05-14T23:59:59.000000000&#x27;, &#x27;2019-05-20T23:59:59.000000000&#x27;,\n",
       "       &#x27;2019-05-26T23:59:59.000000000&#x27;, &#x27;2019-06-01T23:59:59.000000000&#x27;,\n",
       "       &#x27;2019-06-07T23:59:59.000000000&#x27;, &#x27;2019-06-13T23:59:59.000000000&#x27;,\n",
       "       &#x27;2019-06-19T23:59:59.000000000&#x27;, &#x27;2019-06-25T23:59:59.000000000&#x27;,\n",
       "       &#x27;2019-07-01T23:59:59.000000000&#x27;, &#x27;2019-07-07T23:59:59.000000000&#x27;,\n",
       "       &#x27;2019-07-13T23:59:59.000000000&#x27;, &#x27;2019-07-19T23:59:59.000000000&#x27;,\n",
       "       &#x27;2019-07-25T23:59:59.000000000&#x27;, &#x27;2019-07-31T23:59:59.000000000&#x27;,\n",
       "       &#x27;2019-08-06T23:59:59.000000000&#x27;, &#x27;2019-08-12T23:59:59.000000000&#x27;,\n",
       "       &#x27;2019-08-18T23:59:59.000000000&#x27;, &#x27;2019-08-24T23:59:59.000000000&#x27;,\n",
       "       &#x27;2019-08-30T23:59:59.000000000&#x27;, &#x27;2019-09-05T23:59:59.000000000&#x27;,\n",
       "       &#x27;2019-09-11T23:59:59.000000000&#x27;, &#x27;2019-09-17T23:59:59.000000000&#x27;,\n",
       "       &#x27;2019-09-29T23:59:59.000000000&#x27;, &#x27;2019-10-05T23:59:59.000000000&#x27;,\n",
       "       &#x27;2019-10-11T23:59:59.000000000&#x27;, &#x27;2019-10-17T23:59:59.000000000&#x27;,\n",
       "       &#x27;2019-10-23T23:59:59.000000000&#x27;, &#x27;2019-10-29T23:59:59.000000000&#x27;,\n",
       "       &#x27;2019-11-04T23:59:59.000000000&#x27;, &#x27;2019-11-10T23:59:59.000000000&#x27;,\n",
       "       &#x27;2019-11-16T23:59:59.000000000&#x27;, &#x27;2019-11-22T23:59:59.000000000&#x27;,\n",
       "       &#x27;2019-11-28T23:59:59.000000000&#x27;, &#x27;2019-12-04T23:59:59.000000000&#x27;,\n",
       "       &#x27;2019-12-10T23:59:59.000000000&#x27;, &#x27;2019-12-16T23:59:59.000000000&#x27;,\n",
       "       &#x27;2019-12-22T23:59:59.000000000&#x27;, &#x27;2019-12-28T23:59:59.000000000&#x27;,\n",
       "       &#x27;2020-01-03T23:59:59.000000000&#x27;, &#x27;2020-01-09T23:59:59.000000000&#x27;,\n",
       "       &#x27;2020-01-15T23:59:59.000000000&#x27;, &#x27;2020-01-21T23:59:59.000000000&#x27;,\n",
       "       &#x27;2020-01-27T23:59:59.000000000&#x27;], dtype=&#x27;datetime64[ns]&#x27;)</pre></div></li><li class='xr-var-item'><div class='xr-var-name'><span class='xr-has-index'>y</span></div><div class='xr-var-dims'>(y)</div><div class='xr-var-dtype'>float64</div><div class='xr-var-preview xr-preview'>5.133e+06 5.134e+06 ... 5.136e+06</div><input id='attrs-6a5fbce7-6110-4437-bac6-72e236c6596d' class='xr-var-attrs-in' type='checkbox' disabled><label for='attrs-6a5fbce7-6110-4437-bac6-72e236c6596d' title='Show/Hide attributes'><svg class='icon xr-icon-file-text2'><use xlink:href='#icon-file-text2'></use></svg></label><input id='data-387a5dad-bf20-4a2a-b8b5-e4fe89fe90a6' class='xr-var-data-in' type='checkbox'><label for='data-387a5dad-bf20-4a2a-b8b5-e4fe89fe90a6' title='Show/Hide data repr'><svg class='icon xr-icon-database'><use xlink:href='#icon-database'></use></svg></label><div class='xr-var-attrs'><dl class='xr-attrs'></dl></div><div class='xr-var-data'><pre>array([5133490., 5133510., 5133530., 5133550., 5133570., 5133590., 5133610.,\n",
       "       5133630., 5133650., 5133670., 5133690., 5133710., 5133730., 5133750.,\n",
       "       5133770., 5133790., 5133810., 5133830., 5133850., 5133870., 5133890.,\n",
       "       5133910., 5133930., 5133950., 5133970., 5133990., 5134010., 5134030.,\n",
       "       5134050., 5134070., 5134090., 5134110., 5134130., 5134150., 5134170.,\n",
       "       5134190., 5134210., 5134230., 5134250., 5134270., 5134290., 5134310.,\n",
       "       5134330., 5134350., 5134370., 5134390., 5134410., 5134430., 5134450.,\n",
       "       5134470., 5134490., 5134510., 5134530., 5134550., 5134570., 5134590.,\n",
       "       5134610., 5134630., 5134650., 5134670., 5134690., 5134710., 5134730.,\n",
       "       5134750., 5134770., 5134790., 5134810., 5134830., 5134850., 5134870.,\n",
       "       5134890., 5134910., 5134930., 5134950., 5134970., 5134990., 5135010.,\n",
       "       5135030., 5135050., 5135070., 5135090., 5135110., 5135130., 5135150.,\n",
       "       5135170., 5135190., 5135210., 5135230., 5135250., 5135270., 5135290.,\n",
       "       5135310., 5135330., 5135350., 5135370., 5135390., 5135410., 5135430.,\n",
       "       5135450., 5135470., 5135490., 5135510., 5135530., 5135550., 5135570.,\n",
       "       5135590., 5135610., 5135630., 5135650., 5135670., 5135690., 5135710.,\n",
       "       5135730., 5135750., 5135770., 5135790., 5135810., 5135830., 5135850.,\n",
       "       5135870., 5135890., 5135910., 5135930., 5135950.])</pre></div></li><li class='xr-var-item'><div class='xr-var-name'><span class='xr-has-index'>x</span></div><div class='xr-var-dims'>(x)</div><div class='xr-var-dtype'>float64</div><div class='xr-var-preview xr-preview'>6.846e+05 6.846e+05 ... 6.874e+05</div><input id='attrs-3caa82dc-427b-4de3-a643-8ca6242e8812' class='xr-var-attrs-in' type='checkbox' disabled><label for='attrs-3caa82dc-427b-4de3-a643-8ca6242e8812' title='Show/Hide attributes'><svg class='icon xr-icon-file-text2'><use xlink:href='#icon-file-text2'></use></svg></label><input id='data-0986a76d-9af3-4407-af72-5e54d4f0bfaa' class='xr-var-data-in' type='checkbox'><label for='data-0986a76d-9af3-4407-af72-5e54d4f0bfaa' title='Show/Hide data repr'><svg class='icon xr-icon-database'><use xlink:href='#icon-database'></use></svg></label><div class='xr-var-attrs'><dl class='xr-attrs'></dl></div><div class='xr-var-data'><pre>array([684590., 684610., 684630., 684650., 684670., 684690., 684710., 684730.,\n",
       "       684750., 684770., 684790., 684810., 684830., 684850., 684870., 684890.,\n",
       "       684910., 684930., 684950., 684970., 684990., 685010., 685030., 685050.,\n",
       "       685070., 685090., 685110., 685130., 685150., 685170., 685190., 685210.,\n",
       "       685230., 685250., 685270., 685290., 685310., 685330., 685350., 685370.,\n",
       "       685390., 685410., 685430., 685450., 685470., 685490., 685510., 685530.,\n",
       "       685550., 685570., 685590., 685610., 685630., 685650., 685670., 685690.,\n",
       "       685710., 685730., 685750., 685770., 685790., 685810., 685830., 685850.,\n",
       "       685870., 685890., 685910., 685930., 685950., 685970., 685990., 686010.,\n",
       "       686030., 686050., 686070., 686090., 686110., 686130., 686150., 686170.,\n",
       "       686190., 686210., 686230., 686250., 686270., 686290., 686310., 686330.,\n",
       "       686350., 686370., 686390., 686410., 686430., 686450., 686470., 686490.,\n",
       "       686510., 686530., 686550., 686570., 686590., 686610., 686630., 686650.,\n",
       "       686670., 686690., 686710., 686730., 686750., 686770., 686790., 686810.,\n",
       "       686830., 686850., 686870., 686890., 686910., 686930., 686950., 686970.,\n",
       "       686990., 687010., 687030., 687050., 687070., 687090., 687110., 687130.,\n",
       "       687150., 687170., 687190., 687210., 687230., 687250., 687270., 687290.,\n",
       "       687310., 687330., 687350., 687370., 687390., 687410., 687430., 687450.])</pre></div></li></ul></div></li><li class='xr-section-item'><input id='section-cadfe689-027b-4804-80ff-aeecaa492134' class='xr-section-summary-in' type='checkbox'  checked><label for='section-cadfe689-027b-4804-80ff-aeecaa492134' class='xr-section-summary' >Data variables: <span>(2)</span></label><div class='xr-section-inline-details'></div><div class='xr-section-details'><ul class='xr-var-list'><li class='xr-var-item'><div class='xr-var-name'><span>VV</span></div><div class='xr-var-dims'>(time, y, x)</div><div class='xr-var-dtype'>float64</div><div class='xr-var-preview xr-preview'>48.21 33.06 17.91 ... 0.0 0.0 0.0</div><input id='attrs-67086647-cbfe-4a93-9f8e-04868a542083' class='xr-var-attrs-in' type='checkbox' disabled><label for='attrs-67086647-cbfe-4a93-9f8e-04868a542083' title='Show/Hide attributes'><svg class='icon xr-icon-file-text2'><use xlink:href='#icon-file-text2'></use></svg></label><input id='data-616fe433-b327-40cc-8608-13cce54d67ff' class='xr-var-data-in' type='checkbox'><label for='data-616fe433-b327-40cc-8608-13cce54d67ff' title='Show/Hide data repr'><svg class='icon xr-icon-database'><use xlink:href='#icon-database'></use></svg></label><div class='xr-var-attrs'><dl class='xr-attrs'></dl></div><div class='xr-var-data'><pre>array([[[ 48.21356023,  33.06139757,  17.9092349 , ...,   0.        ,\n",
       "           0.        ,   0.        ],\n",
       "        [ 50.2344044 ,  35.08224173,  19.93007907, ...,   0.        ,\n",
       "           0.        ,   0.        ],\n",
       "        [ 52.25524856,  37.1030859 ,  21.95092323, ...,   0.        ,\n",
       "           0.        ,   0.        ],\n",
       "        ...,\n",
       "        [  0.        ,   0.        ,   0.        , ...,   0.        ,\n",
       "           0.        ,   0.        ],\n",
       "        [  0.        ,   0.        ,   0.        , ...,   0.        ,\n",
       "           0.        ,   0.        ],\n",
       "        [  0.        ,   0.        ,   0.        , ...,   0.        ,\n",
       "           0.        ,   0.        ]],\n",
       "\n",
       "       [[152.78777236, 104.77088315,  56.75399394, ...,   0.        ,\n",
       "           0.        ,   0.        ],\n",
       "        [159.19178561, 111.17489639,  63.15800718, ...,   0.        ,\n",
       "           0.        ,   0.        ],\n",
       "        [165.59579885, 117.57890964,  69.56202042, ...,   0.        ,\n",
       "           0.        ,   0.        ],\n",
       "...\n",
       "        [  0.        ,   0.        ,   0.        , ...,   0.        ,\n",
       "           0.        ,   0.        ],\n",
       "        [  0.        ,   0.        ,   0.        , ...,   0.        ,\n",
       "           0.        ,   0.        ],\n",
       "        [  0.        ,   0.        ,   0.        , ...,   0.        ,\n",
       "           0.        ,   0.        ]],\n",
       "\n",
       "       [[ 51.67280659,  35.43350033,  19.19419406, ...,   0.        ,\n",
       "           0.        ,   0.        ],\n",
       "        [ 53.83864312,  37.59933685,  21.36003058, ...,   0.        ,\n",
       "           0.        ,   0.        ],\n",
       "        [ 56.00447964,  39.76517337,  23.5258671 , ...,   0.        ,\n",
       "           0.        ,   0.        ],\n",
       "        ...,\n",
       "        [  0.        ,   0.        ,   0.        , ...,   0.        ,\n",
       "           0.        ,   0.        ],\n",
       "        [  0.        ,   0.        ,   0.        , ...,   0.        ,\n",
       "           0.        ,   0.        ],\n",
       "        [  0.        ,   0.        ,   0.        , ...,   0.        ,\n",
       "           0.        ,   0.        ]]])</pre></div></li><li class='xr-var-item'><div class='xr-var-name'><span>VH</span></div><div class='xr-var-dims'>(time, y, x)</div><div class='xr-var-dtype'>float64</div><div class='xr-var-preview xr-preview'>41.84 28.69 15.54 ... 0.0 0.0 0.0</div><input id='attrs-21140a8b-eeea-4e61-bdec-6a860c980e4c' class='xr-var-attrs-in' type='checkbox' disabled><label for='attrs-21140a8b-eeea-4e61-bdec-6a860c980e4c' title='Show/Hide attributes'><svg class='icon xr-icon-file-text2'><use xlink:href='#icon-file-text2'></use></svg></label><input id='data-2379092e-e7fc-4c4f-a22c-6ad198251d86' class='xr-var-data-in' type='checkbox'><label for='data-2379092e-e7fc-4c4f-a22c-6ad198251d86' title='Show/Hide data repr'><svg class='icon xr-icon-database'><use xlink:href='#icon-database'></use></svg></label><div class='xr-var-attrs'><dl class='xr-attrs'></dl></div><div class='xr-var-data'><pre>array([[[41.83550681, 28.68778651, 15.54006622, ...,  0.        ,\n",
       "          0.        ,  0.        ],\n",
       "        [43.58901846, 30.44129817, 17.29357787, ...,  0.        ,\n",
       "          0.        ,  0.        ],\n",
       "        [45.34253012, 32.19480982, 19.04708953, ...,  0.        ,\n",
       "          0.        ,  0.        ],\n",
       "        ...,\n",
       "        [ 0.        ,  0.        ,  0.        , ...,  0.        ,\n",
       "          0.        ,  0.        ],\n",
       "        [ 0.        ,  0.        ,  0.        , ...,  0.        ,\n",
       "          0.        ,  0.        ],\n",
       "        [ 0.        ,  0.        ,  0.        , ...,  0.        ,\n",
       "          0.        ,  0.        ]],\n",
       "\n",
       "       [[72.57521413, 49.76687049, 26.95852684, ...,  0.        ,\n",
       "          0.        ,  0.        ],\n",
       "        [75.61716327, 52.80881962, 30.00047598, ...,  0.        ,\n",
       "          0.        ,  0.        ],\n",
       "        [78.6591124 , 55.85076876, 33.04242512, ...,  0.        ,\n",
       "          0.        ,  0.        ],\n",
       "...\n",
       "        [ 0.        ,  0.        ,  0.        , ...,  0.        ,\n",
       "          0.        ,  0.        ],\n",
       "        [ 0.        ,  0.        ,  0.        , ...,  0.        ,\n",
       "          0.        ,  0.        ],\n",
       "        [ 0.        ,  0.        ,  0.        , ...,  0.        ,\n",
       "          0.        ,  0.        ]],\n",
       "\n",
       "       [[43.47227732, 29.8101662 , 16.14805508, ...,  0.        ,\n",
       "          0.        ,  0.        ],\n",
       "        [45.29439329, 31.63228217, 17.97017105, ...,  0.        ,\n",
       "          0.        ,  0.        ],\n",
       "        [47.11650926, 33.45439814, 19.79228702, ...,  0.        ,\n",
       "          0.        ,  0.        ],\n",
       "        ...,\n",
       "        [ 0.        ,  0.        ,  0.        , ...,  0.        ,\n",
       "          0.        ,  0.        ],\n",
       "        [ 0.        ,  0.        ,  0.        , ...,  0.        ,\n",
       "          0.        ,  0.        ],\n",
       "        [ 0.        ,  0.        ,  0.        , ...,  0.        ,\n",
       "          0.        ,  0.        ]]])</pre></div></li></ul></div></li><li class='xr-section-item'><input id='section-7beb9a03-fc8c-4706-b3d8-6b1f9b0078ef' class='xr-section-summary-in' type='checkbox' disabled ><label for='section-7beb9a03-fc8c-4706-b3d8-6b1f9b0078ef' class='xr-section-summary'  title='Expand/collapse section'>Attributes: <span>(0)</span></label><div class='xr-section-inline-details'></div><div class='xr-section-details'><dl class='xr-attrs'></dl></div></li></ul></div></div>"
      ],
      "text/plain": [
       "<xarray.Dataset>\n",
       "Dimensions:  (time: 181, x: 144, y: 124)\n",
       "Coordinates:\n",
       "  * time     (time) datetime64[ns] 2016-09-08T23:59:59 ... 2020-01-27T23:59:59\n",
       "  * y        (y) float64 5.133e+06 5.134e+06 5.134e+06 ... 5.136e+06 5.136e+06\n",
       "  * x        (x) float64 6.846e+05 6.846e+05 6.846e+05 ... 6.874e+05 6.874e+05\n",
       "Data variables:\n",
       "    VV       (time, y, x) float64 48.21 33.06 17.91 2.757 ... 0.0 0.0 0.0 0.0\n",
       "    VH       (time, y, x) float64 41.84 28.69 15.54 2.392 ... 0.0 0.0 0.0 0.0"
      ]
     },
     "execution_count": 11,
     "metadata": {},
     "output_type": "execute_result"
    }
   ],
   "source": [
    "geocoded_cube = xr.open_dataset('/mnt/large_drive/work_spaces/mclaus/S1_forest/sar2cube_vaia_timeseries.nc').fillna(0)\n",
    "geocoded_cube"
   ]
  },
  {
   "cell_type": "code",
   "execution_count": 12,
   "metadata": {},
   "outputs": [],
   "source": [
    "sent1 = geocoded_cube"
   ]
  },
  {
   "cell_type": "markdown",
   "metadata": {},
   "source": [
    "## Sample visualization of the geocoded data"
   ]
  },
  {
   "cell_type": "code",
   "execution_count": 13,
   "metadata": {},
   "outputs": [
    {
     "data": {
      "application/vnd.jupyter.widget-view+json": {
       "model_id": "c28e1ef971bc4ac58ae34c84334e4d79",
       "version_major": 2,
       "version_minor": 0
      },
      "text/plain": [
       "Map(center=[46.34, 11.41], controls=(ZoomControl(options=['position', 'zoom_in_text', 'zoom_in_title', 'zoom_o…"
      ]
     },
     "metadata": {},
     "output_type": "display_data"
    }
   ],
   "source": [
    "center = [46.34, 11.41]\n",
    "zoom = 15\n",
    "\n",
    "eoMap = openeoMap(center,zoom)\n",
    "addLayer2(eoMap,sent1.VV[0].assign_attrs(crs=32632),'VV ' + str(geocoded_cube.time[0].values),clip=[0,200])\n",
    "addLayer2(eoMap,sent1.VH[0].assign_attrs(crs=32632),'VH ' + str(geocoded_cube.time[0].values),clip=[0,200])\n",
    "eoMap.map"
   ]
  },
  {
   "cell_type": "markdown",
   "metadata": {},
   "source": [
    "### Forest masking\n",
    "We mask out forests using LISS Land Cover map from 2012"
   ]
  },
  {
   "cell_type": "code",
   "execution_count": 14,
   "metadata": {},
   "outputs": [],
   "source": [
    "forest_mask = xr.open_rasterio('./auxdata/UC3/Liss_vaia_20m.tif')[0]\n",
    "forest_mask = (forest_mask.where(forest_mask==315)/315).fillna(0)"
   ]
  },
  {
   "cell_type": "code",
   "execution_count": 15,
   "metadata": {},
   "outputs": [],
   "source": [
    "sent1 = forest_mask * geocoded_cube"
   ]
  },
  {
   "cell_type": "markdown",
   "metadata": {},
   "source": [
    "### Definition of seasonal periodic functions"
   ]
  },
  {
   "cell_type": "code",
   "execution_count": 16,
   "metadata": {},
   "outputs": [],
   "source": [
    "def timeseries_function_season(x,a0,a1,a2):\n",
    "    t=365.25\n",
    "    return a0+(a1*np.cos(2*np.pi/t*x)+a2*np.sin(2*np.pi/t*x))\n",
    "def fit_curve(x,y):\n",
    "    index = np.nonzero(y) # We don't consider zero values (masked) for fitting.\n",
    "    x = x[index]\n",
    "    y = y[index]\n",
    "    if len(y)<12:\n",
    "        return np.array([0,0,0])\n",
    "    popt, pcov = curve_fit(timeseries_function_season, x, y)\n",
    "    return popt\n",
    "def timeseries_function_season_2 (x,params):\n",
    "    a0 = params[:,:,0]\n",
    "    a1 = params[:,:,1]\n",
    "    a2 = params[:,:,2]\n",
    "    t=365.25\n",
    "    return a0+(a1*np.cos(2*np.pi/t*x)+a2*np.sin(2*np.pi/t*x))"
   ]
  },
  {
   "cell_type": "markdown",
   "metadata": {},
   "source": [
    "## Definition of training period\n",
    "### We use the first 2 years of data, from September 2016 up to September 2018"
   ]
  },
  {
   "cell_type": "code",
   "execution_count": 17,
   "metadata": {},
   "outputs": [],
   "source": [
    "dates = sent1.time.values\n",
    "sDates = [ ((x - np.datetime64('1970-01-01')) / np.timedelta64(1, 's')) for x in dates]\n",
    "julian_dates = [ int((sDates[i]-sDates[0])/60/60/24) for i in range(len(sDates)) ] # Conversion to Julian day\n",
    "julian_dates = np.asarray(julian_dates)\n",
    "sent1['time'] = julian_dates\n",
    "sent1_train = sent1.loc[dict(time=slice(0,730))] ## Use the first 2 years"
   ]
  },
  {
   "cell_type": "markdown",
   "metadata": {},
   "source": [
    "We compute the seasonal function fit parameters over the Intensity time-series for both polarizations."
   ]
  },
  {
   "cell_type": "code",
   "execution_count": 18,
   "metadata": {},
   "outputs": [],
   "source": [
    "popts3d_VV = xr.apply_ufunc(fit_curve,sent1_train.time,sent1_train.VV,\n",
    "                       vectorize=True,\n",
    "                       input_core_dims=[['time'],['time']],# reduce along 'x'\n",
    "                       output_core_dims=[['params']],\n",
    "                       dask=\"parallelized\",\n",
    "                       output_dtypes=[float],\n",
    "                       dask_gufunc_kwargs={'allow_rechunk':True,'output_sizes':{'params':3}}\n",
    "                        )\n",
    "popts3d_VH = xr.apply_ufunc(fit_curve,sent1_train.time,sent1_train.VH,\n",
    "                       vectorize=True,\n",
    "                       input_core_dims=[['time'],['time']],# reduce along 'x'\n",
    "                       output_core_dims=[['params']],\n",
    "                       dask=\"parallelized\",\n",
    "                       output_dtypes=[float],\n",
    "                       dask_gufunc_kwargs={'allow_rechunk':True,'output_sizes':{'params':3}}\n",
    "                        )"
   ]
  },
  {
   "cell_type": "code",
   "execution_count": 19,
   "metadata": {},
   "outputs": [],
   "source": [
    "predicted_VV = timeseries_function_season_2(sent1.time,popts3d_VV)\n",
    "predicted_VH = timeseries_function_season_2(sent1.time,popts3d_VH)"
   ]
  },
  {
   "cell_type": "code",
   "execution_count": 20,
   "metadata": {},
   "outputs": [],
   "source": [
    "sent1_predicted = sent1.copy(deep=True)\n",
    "sent1_predicted['VV'] = predicted_VV.T\n",
    "sent1_predicted['VH'] = predicted_VH.T"
   ]
  },
  {
   "cell_type": "code",
   "execution_count": 21,
   "metadata": {},
   "outputs": [],
   "source": [
    "sent1_predicted.to_netcdf('/mnt/large_drive/work_spaces/mclaus/S1_forest/sar2cube_timeseries_predicted.nc')"
   ]
  },
  {
   "cell_type": "code",
   "execution_count": 22,
   "metadata": {},
   "outputs": [
    {
     "data": {
      "application/vnd.jupyter.widget-view+json": {
       "model_id": "52013cef275f4ca7a44ec317c3bf0bf3",
       "version_major": 2,
       "version_minor": 0
      },
      "text/plain": [
       "Map(center=[46.34, 11.41], controls=(ZoomControl(options=['position', 'zoom_in_text', 'zoom_in_title', 'zoom_o…"
      ]
     },
     "metadata": {},
     "output_type": "display_data"
    }
   ],
   "source": [
    "center = [46.34, 11.41]\n",
    "zoom = 15\n",
    "\n",
    "eoMap = openeoMap(center,zoom)\n",
    "addLayer2(eoMap,geocoded_cube.VV[0].assign_attrs(crs=32632),'VV ' + str(geocoded_cube.time[0].values),clip=[0,200])\n",
    "addLayer2(eoMap,geocoded_cube.VH[0].assign_attrs(crs=32632),'VH ' + str(geocoded_cube.time[0].values),clip=[0,200])\n",
    "eoMap.map"
   ]
  },
  {
   "cell_type": "code",
   "execution_count": null,
   "metadata": {},
   "outputs": [],
   "source": [
    "print(\"Selected point coordinates in WGS84: \",eoMap.point_coords)\n",
    "transformer = Transformer.from_crs(\"epsg:4326\", \"epsg:32632\")\n",
    "x,y = transformer.transform(eoMap.point_coords[1],eoMap.point_coords[0])\n",
    "print(\"Selected point coordinates in UTM32: \",[x,y])"
   ]
  },
  {
   "cell_type": "code",
   "execution_count": null,
   "metadata": {},
   "outputs": [],
   "source": [
    "px_timeseries = sent1.loc[dict(x=find_nearest(sent1.x.values,x),y=find_nearest(sent1.y.values,y))]\n",
    "params_VH_sel = np.expand_dims(popts3d_VH.loc[dict(x=find_nearest(sent1.x.values,x),y=find_nearest(sent1.y.values,y))],axis=(0,1))\n",
    "params_VV_sel = np.expand_dims(popts3d_VV.loc[dict(x=find_nearest(sent1.x.values,x),y=find_nearest(sent1.y.values,y))],axis=(0,1))"
   ]
  },
  {
   "cell_type": "markdown",
   "metadata": {},
   "source": [
    "Area affected by Vaia storm"
   ]
  },
  {
   "cell_type": "code",
   "execution_count": null,
   "metadata": {},
   "outputs": [],
   "source": [
    "fig, (ax1, ax2) = plt.subplots(1,2,figsize=(15,5))\n",
    "vh_line, = ax1.plot(dates,px_timeseries.VH)\n",
    "vh_line.set_label('VH INT values')\n",
    "vh_pred, = ax1.plot(dates, timeseries_function_season_2(julian_dates, params_VH_sel)[0], 'r-')\n",
    "vh_pred.set_label('VH seasonal trend')\n",
    "ax1.set_title('Geocoded VH Intensity')\n",
    "ax1.legend()\n",
    "vv_line, = ax2.plot(dates,px_timeseries.VV)\n",
    "vv_line.set_label('VV INT values')\n",
    "vv_pred, = ax2.plot(dates, timeseries_function_season_2(julian_dates, params_VV_sel)[0], 'r-')\n",
    "vv_pred.set_label('VV seasonal trend')\n",
    "ax2.set_title('Geocoded VV Intensity')\n",
    "ax2.legend()\n",
    "ax1.tick_params(labelrotation=45)\n",
    "ax2.tick_params(labelrotation=45)"
   ]
  },
  {
   "cell_type": "code",
   "execution_count": null,
   "metadata": {},
   "outputs": [],
   "source": [
    "x_ml, y_ml = find_closest_2d(sent1_ML,eoMap.point_coords)\n",
    "subset = sent1_ML.loc[dict(x=x_ml,y=y_ml)]\n",
    "fig, (ax1, ax2) = plt.subplots(1,2,figsize=(15,5))\n",
    "vh_line, = ax1.plot(dates,subset.VH[:,0,0])\n",
    "vh_line.set_label('VH INT values')\n",
    "ax1.set_title('SAR VH Intensity')\n",
    "ax1.legend()\n",
    "vv_line, = ax2.plot(dates,subset.VV[:,0,0])\n",
    "vv_line.set_label('VV INT values')\n",
    "ax2.set_title('SAR VV Intensity')\n",
    "ax2.legend()\n",
    "ax1.tick_params(labelrotation=45)\n",
    "ax2.tick_params(labelrotation=45)"
   ]
  },
  {
   "cell_type": "markdown",
   "metadata": {},
   "source": [
    "Area not affected by the storm"
   ]
  },
  {
   "cell_type": "code",
   "execution_count": null,
   "metadata": {},
   "outputs": [],
   "source": [
    "fig, (ax1, ax2) = plt.subplots(1,2,figsize=(15,5))\n",
    "vh_line, = ax1.plot(dates,px_timeseries.VH)\n",
    "vh_line.set_label('VH INT values')\n",
    "vh_pred, = ax1.plot(dates, timeseries_function_season_2(julian_dates, params_VH_sel)[0], 'r-')\n",
    "vh_pred.set_label('VH seasonal trend')\n",
    "ax1.set_title('VH Intensity full time-series')\n",
    "ax1.legend()\n",
    "vv_line, = ax2.plot(dates,px_timeseries.VV)\n",
    "vv_line.set_label('VV INT values')\n",
    "vv_pred, = ax2.plot(dates, timeseries_function_season_2(julian_dates, params_VV_sel)[0], 'r-')\n",
    "vv_pred.set_label('VV seasonal trend')\n",
    "ax2.set_title('VV Intensity full time-series')\n",
    "ax2.legend()\n",
    "ax1.tick_params(labelrotation=45)\n",
    "ax2.tick_params(labelrotation=45)"
   ]
  },
  {
   "cell_type": "markdown",
   "metadata": {},
   "source": [
    "## Change alarms computation"
   ]
  },
  {
   "cell_type": "markdown",
   "metadata": {},
   "source": [
    "We compute the difference between the predicted and real data"
   ]
  },
  {
   "cell_type": "code",
   "execution_count": 23,
   "metadata": {},
   "outputs": [],
   "source": [
    "sent1_train_predicted = sent1_predicted.loc[dict(time=slice(0,730))] ## Use the first 2 years"
   ]
  },
  {
   "cell_type": "code",
   "execution_count": 24,
   "metadata": {},
   "outputs": [],
   "source": [
    "sent1_diff_train = (sent1_train_predicted - sent1_train)\n",
    "sent1_diff_train = sent1_diff_train.to_array()"
   ]
  },
  {
   "cell_type": "code",
   "execution_count": 25,
   "metadata": {},
   "outputs": [],
   "source": [
    "sent1_diff_tot = sent1_predicted - sent1\n",
    "sent1_diff_tot = sent1_diff_tot.to_array()"
   ]
  },
  {
   "cell_type": "markdown",
   "metadata": {},
   "source": [
    "With the difference between real and predicted values, we compute the RMSE for every pixel in training set and the STD along time."
   ]
  },
  {
   "cell_type": "code",
   "execution_count": 26,
   "metadata": {},
   "outputs": [],
   "source": [
    "var_numb = len(sent1_diff_train.variable)\n",
    "rmse_train = xr.ufuncs.sqrt((sent1_diff_train**2).sum('variable')/var_numb)\n",
    "rmse_train_std  = rmse_train.std('time')"
   ]
  },
  {
   "cell_type": "markdown",
   "metadata": {},
   "source": [
    "We do the same for the full time-series, which includes the test set."
   ]
  },
  {
   "cell_type": "code",
   "execution_count": 27,
   "metadata": {},
   "outputs": [],
   "source": [
    "rmse_tot = xr.ufuncs.sqrt((sent1_diff_tot**2).sum('variable')/var_numb)"
   ]
  },
  {
   "cell_type": "markdown",
   "metadata": {},
   "source": [
    "We count as an alarm if the values of 5 subsequent acquisition have a RMSE > 3*sigma"
   ]
  },
  {
   "cell_type": "code",
   "execution_count": 28,
   "metadata": {},
   "outputs": [],
   "source": [
    "alarms = rmse_tot > 3*rmse_train_std ## Use the first 2 years\n",
    "alarms_filt = alarms.rolling(time=5, center=False).mean().fillna(0)"
   ]
  },
  {
   "cell_type": "code",
   "execution_count": 29,
   "metadata": {},
   "outputs": [
    {
     "data": {
      "application/vnd.jupyter.widget-view+json": {
       "model_id": "c9d2f22296bd4f81887bd5fbb09b22af",
       "version_major": 2,
       "version_minor": 0
      },
      "text/plain": [
       "Map(center=[46.34, 11.41], controls=(ZoomControl(options=['position', 'zoom_in_text', 'zoom_in_title', 'zoom_o…"
      ]
     },
     "metadata": {},
     "output_type": "display_data"
    }
   ],
   "source": [
    "center = [46.34, 11.41]\n",
    "zoom = 15\n",
    "\n",
    "eoMap3 = openeoMap(center,zoom)\n",
    "addLayer2(eoMap3,geocoded_cube.VV[0].assign_attrs(crs=32632),'VV ' + str(geocoded_cube.time[0].values),clip=[0,200])\n",
    "addLayer2(eoMap3,geocoded_cube.VH[0].assign_attrs(crs=32632),'VH ' + str(geocoded_cube.time[0].values),clip=[0,200])\n",
    "eoMap3.map"
   ]
  },
  {
   "cell_type": "code",
   "execution_count": 34,
   "metadata": {},
   "outputs": [
    {
     "name": "stdout",
     "output_type": "stream",
     "text": [
      "Selected point coordinates in WGS84:  [11.417288, 46.342141]\n",
      "Selected point coordinates in UTM32:  [686016.6520249762, 5134902.580728898]\n"
     ]
    }
   ],
   "source": [
    "print(\"Selected point coordinates in WGS84: \",eoMap3.point_coords)\n",
    "transformer = Transformer.from_crs(\"epsg:4326\", \"epsg:32632\")\n",
    "x,y = transformer.transform(eoMap3.point_coords[1],eoMap3.point_coords[0])\n",
    "print(\"Selected point coordinates in UTM32: \",[x,y])"
   ]
  },
  {
   "cell_type": "code",
   "execution_count": 35,
   "metadata": {},
   "outputs": [],
   "source": [
    "px_timeseries = sent1.loc[dict(x=find_nearest(sent1.x.values,x),y=find_nearest(sent1.y.values,y))]\n",
    "params_VH_sel = np.expand_dims(popts3d_VH.loc[dict(x=find_nearest(sent1.x.values,x),y=find_nearest(sent1.y.values,y))],axis=(0,1))\n",
    "params_VV_sel = np.expand_dims(popts3d_VV.loc[dict(x=find_nearest(sent1.x.values,x),y=find_nearest(sent1.y.values,y))],axis=(0,1))\n",
    "alarm_series = alarms_filt.loc[dict(x=find_nearest(sent1.x.values,x),y=find_nearest(sent1.y.values,y))]"
   ]
  },
  {
   "cell_type": "code",
   "execution_count": 36,
   "metadata": {},
   "outputs": [
    {
     "name": "stdout",
     "output_type": "stream",
     "text": [
      "Change detected at date: 2019-07-25\n"
     ]
    }
   ],
   "source": [
    "alarm_index = np.argmax(alarm_series.values>=0.8)\n",
    "if alarm_index!=0:\n",
    "    print(\"Change detected at date:\",str(dates[alarm_index])[:10])\n",
    "else:\n",
    "    print(\"No change detected!\")"
   ]
  },
  {
   "cell_type": "code",
   "execution_count": 37,
   "metadata": {},
   "outputs": [
    {
     "data": {
      "image/png": "[encoded data removed]",
      "text/plain": [
       "<Figure size 1080x360 with 2 Axes>"
      ]
     },
     "metadata": {
      "needs_background": "light"
     },
     "output_type": "display_data"
    }
   ],
   "source": [
    "fig, (ax1, ax2) = plt.subplots(1,2,figsize=(15,5))\n",
    "vh_line, = ax1.plot(dates,px_timeseries.VH)\n",
    "vh_line.set_label('VH INT values')\n",
    "vh_pred, = ax1.plot(dates, timeseries_function_season_2(julian_dates, params_VH_sel)[0], 'r-')\n",
    "vh_pred.set_label('VH seasonal trend')\n",
    "ax1.vlines(x = dates[alarm_index], ymin = px_timeseries.VH.min().values, ymax = px_timeseries.VH.max().values + 10, \n",
    "           colors = 'green', \n",
    "           label = 'Change alarm')\n",
    "ax1.set_title(\"Change detected at date:\"+str(dates[alarm_index])[:10])\n",
    "ax1.legend()\n",
    "ax1.tick_params(labelrotation=45)\n",
    "vv_line, = ax2.plot(dates,px_timeseries.VV)\n",
    "vv_line.set_label('VV INT values')\n",
    "vv_pred, = ax2.plot(dates, timeseries_function_season_2(julian_dates, params_VV_sel)[0], 'r-')\n",
    "vv_pred.set_label('VV seasonal trend')\n",
    "ax2.set_title('VV Intensity full time-series')\n",
    "ax2.vlines(x = dates[alarm_index], ymin = px_timeseries.VV.min().values, ymax = px_timeseries.VV.max().values + 10, \n",
    "           colors = 'green', \n",
    "           label = 'Change alarm')\n",
    "ax2.set_title(\"Change detected at date:\"+str(dates[alarm_index])[:10])\n",
    "ax2.legend()\n",
    "ax2.tick_params(labelrotation=45)"
   ]
  },
  {
   "cell_type": "code",
   "execution_count": null,
   "metadata": {},
   "outputs": [],
   "source": [
    "addLayer2(eoMap3,alarms_filt[alarm_index].T.assign_attrs(crs=32632),\"Alarms on \"+str(dates[alarm_index])[:10],clip=[0.5,1])"
   ]
  },
  {
   "cell_type": "code",
   "execution_count": null,
   "metadata": {},
   "outputs": [],
   "source": []
  }
 ],
 "metadata": {
  "kernelspec": {
   "display_name": "Python3_ODC",
   "language": "python",
   "name": "python3_odc"
  },
  "language_info": {
   "codemirror_mode": {
    "name": "ipython",
    "version": 3
   },
   "file_extension": ".py",
   "mimetype": "text/x-python",
   "name": "python",
   "nbconvert_exporter": "python",
   "pygments_lexer": "ipython3",
   "version": "3.6.10"
  }
 },
 "nbformat": 4,
 "nbformat_minor": 4
}
